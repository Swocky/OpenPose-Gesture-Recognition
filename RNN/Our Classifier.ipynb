{
 "cells": [
  {
   "cell_type": "code",
   "execution_count": 1,
   "metadata": {
    "collapsed": true
   },
   "outputs": [],
   "source": [
    "import numpy as np\n",
    "import matplotlib\n",
    "import matplotlib.pyplot as plt\n",
    "import tensorflow as tf  # Version 1.0.0 (some previous versions are used in past commits)\n",
    "from sklearn import metrics\n",
    "import random, time, os, json, glob, re, time\n",
    "from random import randint\n",
    "import pandas as pd\n",
    "from os.path import join\n",
    "import datetime\n",
    "\n",
    "% matplotlib inline\n",
    "from usefull_function import get_all_labels, get_class, get_id_label_dict"
   ]
  },
  {
   "cell_type": "markdown",
   "metadata": {},
   "source": [
    "Some general information we need to handle the data"
   ]
  },
  {
   "cell_type": "code",
   "execution_count": 2,
   "metadata": {},
   "outputs": [],
   "source": [
    "# How many frames there are in a video sequence, we feed to the RNN\n",
    "n_steps = 37\n",
    "\n",
    "# How many different classes there are.\n",
    "n_classes = 27\n",
    "\n",
    "# Which dataset are we looking at, choices body | hands | all\n",
    "db_type = 'all'\n",
    "\n",
    "# Where are the csv stored.\n",
    "train_labels = '../labels/train.csv'\n",
    "val_labels = '../labels/validation.csv'\n",
    "all_labels = '../labels/labels.csv'\n",
    "\n",
    "\n",
    "labels = get_id_label_dict(train_labels, val_labels)\n",
    "label_class_dict = get_all_labels(all_labels)\n",
    "\n",
    "file_path = join('../../data/train/',db_type,'*.npy')\n",
    "files = glob.glob(file_path)\n"
   ]
  },
  {
   "cell_type": "code",
   "execution_count": null,
   "metadata": {},
   "outputs": [],
   "source": []
  },
  {
   "cell_type": "markdown",
   "metadata": {},
   "source": [
    "# Loading the data, shuffling and splitting\n",
    "\n",
    "Note we can save the data in a numpy array since our dataset is not too big. \n",
    "Otherwise we need to work with an iterator that gets the array iteratively"
   ]
  },
  {
   "cell_type": "code",
   "execution_count": 3,
   "metadata": {},
   "outputs": [],
   "source": [
    "y_data = np.array([get_class(file, labels, label_class_dict) for file in files])\n",
    "\n",
    "y_original = y_data\n",
    "# Make a one hot encoding of the labels\n",
    "y_tmp = np.zeros((len(y_data), n_classes), dtype = np.int32)\n",
    "for i in range(len(y_data)):\n",
    "  y_tmp[i,y_data[i]] = 1\n",
    "\n",
    "y_data = y_tmp\n",
    "  \n",
    "X_data = np.r_[[np.load(files[i]) for i in range(len(files))]]"
   ]
  },
  {
   "cell_type": "code",
   "execution_count": 22,
   "metadata": {},
   "outputs": [
    {
     "data": {
      "text/plain": [
       "array([10907,  2300,  9322,  3502,   720,  2864, 13904,  2543,  7076,\n",
       "        9416])"
      ]
     },
     "execution_count": 22,
     "metadata": {},
     "output_type": "execute_result"
    }
   ],
   "source": [
    "train_size = 14000\n",
    "\n",
    "\n",
    "np.random.seed(42)\n",
    "permute = np.random.permutation(y_data.shape[0])\n",
    "y_data = y_data[permute]\n",
    "X_data = X_data[permute]\n",
    "\n",
    "y_train, y_test = y_data[:train_size], y_data[train_size:]\n",
    "X_train, X_test = X_data[:train_size], X_data[train_size:]\n",
    "y_test_true = y_original[permute][train_size:] \n",
    "permute[:10]"
   ]
  },
  {
   "cell_type": "code",
   "execution_count": 20,
   "metadata": {},
   "outputs": [
    {
     "data": {
      "text/plain": [
       "array([10907,  2300,  9322,  3502,   720,  2864, 13904,  2543,  7076,\n",
       "        9416])"
      ]
     },
     "execution_count": 20,
     "metadata": {},
     "output_type": "execute_result"
    }
   ],
   "source": [
    "permute[:10]"
   ]
  },
  {
   "cell_type": "markdown",
   "metadata": {},
   "source": [
    "# Graph \n",
    "\n",
    "## Some general specifications"
   ]
  },
  {
   "cell_type": "code",
   "execution_count": 6,
   "metadata": {},
   "outputs": [],
   "source": [
    "# Input Data \n",
    "tf.reset_default_graph()\n",
    "\n",
    "# Some graph specific numbers\n",
    "training_data_count = len(X_train)  # 4519 training series (with 50% overlap between each serie)\n",
    "test_data_count = len(X_test)  # 1197 test series\n",
    "n_input = len(X_train[0][0])  # num input parameters per timestep\n",
    "n_hidden = [90,50] # Hidden layer num of features\n",
    "\n",
    "\n",
    "\n",
    "# calculated as: decayed_learning_rate = learning_rate * decay_rate ^ (global_step / decay_steps)\n",
    "decaying_learning_rate = True\n",
    "learning_rate = 0.0025 #used if decaying_learning_rate set to False\n",
    "init_learning_rate = 0.002\n",
    "decay_rate = 0.96 #the base of the exponential in the decay\n",
    "decay_steps = 100000 #used in decay every 60000 steps with a base of 0.96\n",
    "\n",
    "\n",
    "global_step = tf.Variable(0, trainable=False)\n",
    "lambda_loss_amount = 0.0015\n",
    "\n",
    "epochs = 50\n",
    "training_iters = training_data_count *epochs  # Loop number of epoch through the data set.\n",
    "batch_size = 512\n",
    "display_iter = batch_size*64 # To show test set accuracy during training\n"
   ]
  },
  {
   "cell_type": "code",
   "execution_count": 7,
   "metadata": {
    "collapsed": true
   },
   "outputs": [],
   "source": [
    "def extract_batch_size(_train, _labels, _unsampled, batch_size):\n",
    "    # Return a shuffled batch\n",
    "    \n",
    "    index = np.random.choice(_unsampled,size = batch_size)\n",
    "    batch_s = _train[index]\n",
    "    batch_labels = _labels[index]\n",
    "    _unsampled = np.delete(_unsampled, index)\n",
    "    \n",
    "    return batch_s, batch_labels, _unsampled\n",
    "\n",
    "\n"
   ]
  },
  {
   "cell_type": "code",
   "execution_count": null,
   "metadata": {},
   "outputs": [],
   "source": []
  },
  {
   "cell_type": "markdown",
   "metadata": {},
   "source": [
    "----\n",
    "## The graph definition\n",
    "\n",
    "----"
   ]
  },
  {
   "cell_type": "code",
   "execution_count": 8,
   "metadata": {
    "collapsed": true
   },
   "outputs": [],
   "source": [
    "# Graph input/output\n",
    "x = tf.placeholder(tf.float32, [None, n_steps, n_input])\n",
    "y = tf.placeholder(tf.int32, [None, n_classes])\n",
    "#y_hot = tf.one_hot(tf.cast(y,tf.int32),n_classes)\n",
    "\n",
    "\n",
    "with tf.name_scope('Input') as _:\n",
    "  xt = tf.transpose(x, [1, 0, 2])  # permute n_steps and batch_size\n",
    "  xr = tf.reshape(xt, [-1, n_input])  \n",
    "  # Rectifies Linear Unit activation function used\n",
    "    \n",
    "with tf.name_scope('First_fc_layer') as _:\n",
    "  y_1 = tf.layers.dense(xr, n_hidden[0], \n",
    "  bias_initializer=tf.truncated_normal_initializer(stddev=0.1), \n",
    "                  kernel_initializer=tf.truncated_normal_initializer(stddev=0.1), \n",
    "                  activation=tf.nn.relu, name='layer_1')\n",
    "    \n",
    "  # So the reader might be wondering why we take the transpose before the reshape\n",
    "  # This has to do with how the lstm wants to eat the data.\n",
    "  # the lstm want n_frames tensors, where each tensor is of size batchsize x num_features\n",
    "  # So basically first all the 1st frames then all the 2nd frames etc.\n",
    "  _X_split = tf.split(y_1, n_steps, 0) \n",
    "\n",
    "    \n",
    "with tf.name_scope('LSTM') as _:\n",
    "  # Define two stacked LSTM cells (two recurrent layers deep) with tensorflow\n",
    "  lstm_cell_1 = tf.contrib.rnn.BasicLSTMCell(n_hidden[0], forget_bias=1.0, state_is_tuple=True)\n",
    "  lstm_cell_2 = tf.contrib.rnn.BasicLSTMCell(n_hidden[0], forget_bias=1.0, state_is_tuple=True)\n",
    "  lstm_cells = tf.contrib.rnn.MultiRNNCell([lstm_cell_1, lstm_cell_2], state_is_tuple=True)\n",
    "  outputs, states = tf.contrib.rnn.static_rnn(lstm_cells, _X_split, dtype=tf.float32)\n",
    "    \n",
    "  # A single output is produced, in style of \"many to one\" classifier, refer to http://karpathy.github.io/2015/05/21/rnn-effectiveness/ for details\n",
    "  lstm_last_output = outputs[-1]\n",
    "    \n",
    "    \n",
    "with tf.name_scope('Second_fc_layer') as _:\n",
    "  y_2 = tf.layers.dense(lstm_last_output, n_hidden[1], \n",
    "                          bias_initializer=tf.truncated_normal_initializer(stddev=0.1), \n",
    "                          kernel_initializer=tf.truncated_normal_initializer(stddev=0.1), \n",
    "                          activation=tf.nn.relu, name='layer_2')\n",
    "    \n",
    "    \n",
    "with tf.name_scope('Last_fc_layer') as _:\n",
    "  out = tf.layers.dense(y_2, n_classes, \n",
    "                                  bias_initializer=tf.truncated_normal_initializer(stddev=0.1), \n",
    "                                  kernel_initializer=tf.truncated_normal_initializer(stddev=0.1), \n",
    "                                  activation=None, \n",
    "                                  name='final_layer')\n",
    "\n",
    "\n",
    "with tf.name_scope('Output') as _:\n",
    "  pred = out\n",
    "  \n",
    "with tf.name_scope('Optimizer') as _:\n",
    "  # Loss, optimizer and evaluation\n",
    "  # The regularization term\n",
    "  l2 = lambda_loss_amount * sum(tf.nn.l2_loss(tf_var) for tf_var in tf.trainable_variables()) \n",
    "  \n",
    "  cost = tf.reduce_mean(tf.nn.softmax_cross_entropy_with_logits_v2(\n",
    "                          labels=y, \n",
    "                          logits=pred)) + l2 # Softmax loss\n",
    "  if decaying_learning_rate:\n",
    "    learning_rate = tf.train.exponential_decay(init_learning_rate, global_step*batch_size, decay_steps, decay_rate, staircase=True)\n",
    "\n",
    "\n",
    "  #decayed_learning_rate = learning_rate * decay_rate ^ (global_step / decay_steps) #exponentially decayed learning rate\n",
    "  optimizer = tf.train.AdamOptimizer(learning_rate=learning_rate).minimize(cost,global_step=global_step) # Adam Optimizer\n",
    "  tf.summary.scalar('cost', cost)\n",
    "  \n",
    "  \n",
    "with tf.name_scope('Accuracy') as _:\n",
    "  correct_pred = tf.equal(tf.argmax(pred,1), tf.argmax(y,1))\n",
    "  accuracy = tf.reduce_mean(tf.cast(correct_pred, tf.float32))\n",
    "  tf.summary.scalar('accuracy', accuracy)\n",
    "  \n",
    "saver = tf.train.Saver()"
   ]
  },
  {
   "cell_type": "markdown",
   "metadata": {
    "collapsed": true
   },
   "source": [
    "---\n",
    "\n",
    "# Training of the Graph\n",
    "\n",
    "## Only run this part if you want to train your own model\n",
    "\n",
    "---"
   ]
  },
  {
   "cell_type": "code",
   "execution_count": 9,
   "metadata": {
    "collapsed": true
   },
   "outputs": [],
   "source": [
    "# Inititialize writers\n",
    "time_now = datetime.datetime.strftime(datetime.datetime.now(), '%H%M%S')\n",
    "summary_dir = './logs/'+db_type+time_now\n",
    "\n",
    "merged = tf.summary.merge_all()\n",
    "\n",
    "train_writer = tf.summary.FileWriter(summary_dir + '/train')\n",
    "test_writer=  tf.summary.FileWriter(summary_dir + '/test')"
   ]
  },
  {
   "cell_type": "code",
   "execution_count": 10,
   "metadata": {},
   "outputs": [
    {
     "name": "stdout",
     "output_type": "stream",
     "text": [
      " Iter: 512,  Accuracy test: 0.052717749029397964, Accuracy train: 0.037109375, time: 21.077831983566284\n",
      "\tbetter network stored, 0.05271775 > 0\n",
      " Iter: 32768,  Accuracy test: 0.15586116909980774, Accuracy train: 0.1640625, time: 41.55285310745239\n",
      "\tbetter network stored, 0.15586117 > 0.05271775\n",
      " Iter: 65536,  Accuracy test: 0.22429600358009338, Accuracy train: 0.22265625, time: 46.989351987838745\n",
      "\tbetter network stored, 0.224296 > 0.15586117\n",
      " Iter: 98304,  Accuracy test: 0.28094303607940674, Accuracy train: 0.296875, time: 44.637500047683716\n",
      "\tbetter network stored, 0.28094304 > 0.224296\n",
      " Iter: 131072,  Accuracy test: 0.33464309573173523, Accuracy train: 0.357421875, time: 44.302862882614136\n",
      "\tbetter network stored, 0.3346431 > 0.28094304\n",
      " Iter: 163840,  Accuracy test: 0.3785199820995331, Accuracy train: 0.3828125, time: 42.70028018951416\n",
      "\tbetter network stored, 0.37851998 > 0.3346431\n",
      " Iter: 196608,  Accuracy test: 0.3798297345638275, Accuracy train: 0.388671875, time: 42.417819023132324\n",
      "\tbetter network stored, 0.37982973 > 0.37851998\n",
      " Iter: 229376,  Accuracy test: 0.3916175365447998, Accuracy train: 0.4375, time: 42.39859485626221\n",
      "\tbetter network stored, 0.39161754 > 0.37982973\n",
      " Iter: 262144,  Accuracy test: 0.3922724425792694, Accuracy train: 0.3984375, time: 42.34925103187561\n",
      "\tbetter network stored, 0.39227244 > 0.39161754\n",
      " Iter: 294912,  Accuracy test: 0.42272430658340454, Accuracy train: 0.455078125, time: 43.38590621948242\n",
      "\tbetter network stored, 0.4227243 > 0.39227244\n",
      " Iter: 327680,  Accuracy test: 0.4214145243167877, Accuracy train: 0.486328125, time: 40.195148944854736\n",
      " Iter: 360448,  Accuracy test: 0.43975114822387695, Accuracy train: 0.474609375, time: 40.03366684913635\n",
      "\tbetter network stored, 0.43975115 > 0.4227243\n",
      " Iter: 393216,  Accuracy test: 0.44007858633995056, Accuracy train: 0.5078125, time: 40.25465178489685\n",
      "\tbetter network stored, 0.4400786 > 0.43975115\n",
      " Iter: 425984,  Accuracy test: 0.4535036087036133, Accuracy train: 0.50390625, time: 39.81741690635681\n",
      "\tbetter network stored, 0.4535036 > 0.4400786\n",
      " Iter: 458752,  Accuracy test: 0.45612311363220215, Accuracy train: 0.53125, time: 40.02613282203674\n",
      "\tbetter network stored, 0.4561231 > 0.4535036\n",
      " Iter: 491520,  Accuracy test: 0.45252129435539246, Accuracy train: 0.4921875, time: 39.96076679229736\n",
      " Iter: 524288,  Accuracy test: 0.47282251715660095, Accuracy train: 0.548828125, time: 40.063055992126465\n",
      "\tbetter network stored, 0.47282252 > 0.4561231\n",
      " Iter: 557056,  Accuracy test: 0.47773411870002747, Accuracy train: 0.58203125, time: 39.85409188270569\n",
      "\tbetter network stored, 0.47773412 > 0.47282252\n",
      " Iter: 589824,  Accuracy test: 0.4783889949321747, Accuracy train: 0.572265625, time: 40.22616720199585\n",
      "\tbetter network stored, 0.478389 > 0.47773412\n",
      " Iter: 622592,  Accuracy test: 0.48166340589523315, Accuracy train: 0.583984375, time: 40.076966285705566\n",
      "\tbetter network stored, 0.4816634 > 0.478389\n",
      " Iter: 655360,  Accuracy test: 0.48166340589523315, Accuracy train: 0.57421875, time: 39.89837622642517\n",
      " Iter: 688128,  Accuracy test: 0.4754420518875122, Accuracy train: 0.59765625, time: 39.870863914489746\n",
      "Optimization Finished!\n",
      "INFO:tensorflow:Restoring parameters from ./logs/all180232/bestNetwork\n",
      "best training accuracy: 0.572 best test accuracy:  0.4816634\n",
      "TOTAL TIME:  1033.7756161689758\n"
     ]
    }
   ],
   "source": [
    "#sess = tf.InteractiveSession(config=tf.ConfigProto(log_device_placement=True))\n",
    "init = tf.global_variables_initializer()\n",
    "\n",
    "# Perform Training steps with \"batch_size\" amount of data at each loop. \n",
    "# Elements of each batch are chosen randomly, without replacement, from X_train, \n",
    "# restarting when remaining datapoints < batch_size\n",
    "step = 1\n",
    "best_test_acc = 0\n",
    "time_start = time.time()\n",
    "unsampled_indices = list(range(0,len(X_train)))\n",
    "start = time.time()\n",
    "\n",
    "with tf.Session() as sess:\n",
    "  \n",
    "  sess.run(init)\n",
    "  sess.graph.finalize()\n",
    "  writer = tf.summary.FileWriter(summary_dir, sess.graph)\n",
    "  while step * batch_size <= training_iters:\n",
    "    if len(unsampled_indices) < batch_size:\n",
    "      unsampled_indices = list(range(0,len(X_train))) \n",
    "    batch_xs, batch_ys, unsampled_indicies = extract_batch_size(X_train, y_train, unsampled_indices, batch_size)\n",
    "    \n",
    "    # Fit training using batch data\n",
    "    _, loss_trn, acc_trn = sess.run([optimizer, cost, accuracy], feed_dict={x: batch_xs, y: batch_ys})\n",
    "    \n",
    "    summary = sess.run(merged, feed_dict={x: batch_xs, y: batch_ys}) \n",
    "    train_writer.add_summary(summary, step)\n",
    "    \n",
    "    \n",
    "    # Evaluate network only at some steps for faster training: \n",
    "    if (step*batch_size % display_iter == 0) or (step == 1) or (step * batch_size > training_iters):\n",
    "        \n",
    "        # Evaluation on the test set (no learning made here - just evaluation for diagnosis)\n",
    "        loss_tst, acc_tst = sess.run([cost, accuracy], feed_dict={x: X_test, y: y_test})\n",
    "        summary = sess.run(merged, feed_dict={x: X_test, y: y_test})\n",
    "        \n",
    "        test_writer.add_summary(summary, step)\n",
    "        \n",
    "        \n",
    "        print('\\r Iter: {},  Accuracy test: {}, Accuracy train: {}, time: {}'.format(step*batch_size, acc_tst, acc_trn, time.time()-start))\n",
    "        \n",
    "        if(acc_tst > best_test_acc):\n",
    "          print(\"\\tbetter network stored,\", acc_tst, \">\", best_test_acc)\n",
    "          best_test_acc = acc_tst\n",
    "          saver.save(sess=sess, save_path=summary_dir + '/bestNetwork')\n",
    "          \n",
    "        \n",
    "        start = time.time()\n",
    "    step += 1\n",
    "  print(\"Optimization Finished!\")\n",
    "\n",
    "  # Accuracy for test data\n",
    "  \n",
    "  saver.restore(sess=sess, save_path=summary_dir + '/bestNetwork')\n",
    "  print(\"best training accuracy:\", sess.run(accuracy, feed_dict={x: X_train, y: y_train}),\n",
    "  \"best test accuracy: \", sess.run(accuracy, feed_dict={x: X_test, y: y_test}))\n",
    "\n",
    "time_stop = time.time()\n",
    "print((\"TOTAL TIME:  {}\".format(time_stop - time_start)))"
   ]
  },
  {
   "cell_type": "markdown",
   "metadata": {},
   "source": [
    "---\n",
    "\n",
    "# Get a previous best network\n",
    "\n",
    "For this to work we need the definition of the graph above.\n",
    "\n",
    "---"
   ]
  },
  {
   "cell_type": "code",
   "execution_count": 12,
   "metadata": {},
   "outputs": [
    {
     "name": "stdout",
     "output_type": "stream",
     "text": [
      "INFO:tensorflow:Restoring parameters from logs/all180232/bestNetwork\n"
     ]
    }
   ],
   "source": [
    "with tf.Session() as sess:\n",
    "  saver.restore(sess=sess, save_path='logs/all180232' + '/bestNetwork')\n",
    "  prediction = sess.run(pred, feed_dict={x: X_test, y: y_test})"
   ]
  },
  {
   "cell_type": "code",
   "execution_count": 13,
   "metadata": {},
   "outputs": [
    {
     "data": {
      "text/plain": [
       "(3054,)"
      ]
     },
     "execution_count": 13,
     "metadata": {},
     "output_type": "execute_result"
    }
   ],
   "source": [
    "prediction = prediction.argmax(axis = 1)\n",
    "prediction.shape"
   ]
  },
  {
   "cell_type": "markdown",
   "metadata": {},
   "source": [
    "# Statistics"
   ]
  },
  {
   "cell_type": "code",
   "execution_count": 17,
   "metadata": {},
   "outputs": [
    {
     "name": "stdout",
     "output_type": "stream",
     "text": [
      "weighted\n",
      "Accuracy: 48.17%\n",
      "Precision: 50.00%\n",
      "Recall: 48.17%\n",
      "f1_score: 47.91%\n",
      "macro\n",
      "Accuracy: 48.17%\n",
      "Precision: 50.11%\n",
      "Recall: 48.21%\n",
      "f1_score: 47.93%\n",
      "micro\n",
      "Accuracy: 48.17%\n",
      "Precision: 48.17%\n",
      "Recall: 48.17%\n",
      "f1_score: 48.17%\n"
     ]
    },
    {
     "data": {
      "image/png": "[encoded data removed]",
      "text/plain": [
       "<matplotlib.figure.Figure at 0x14b584c50>"
      ]
     },
     "metadata": {},
     "output_type": "display_data"
    }
   ],
   "source": [
    "for avg in ['weighted', 'macro', 'micro']:\n",
    "  print(avg)\n",
    "  print(\"Accuracy: {:.2f}%\".format(100*metrics.accuracy_score(y_test_true, prediction)))\n",
    "  print(\"Precision: {:.2f}%\".format(100*metrics.precision_score(y_test_true, prediction, average=avg)))\n",
    "  print(\"Recall: {:.2f}%\".format(100*metrics.recall_score(y_test_true, prediction, average=avg)))\n",
    "  print(\"f1_score: {:.2f}%\".format(100*metrics.f1_score(y_test_true, prediction, average=avg)))\n",
    "\n",
    "confusion_matrix = metrics.confusion_matrix(y_test_true, prediction)\n",
    "\n",
    "label_axis = sorted(label_class_dict, key = label_class_dict.__getitem__)\n",
    "\n",
    "\n",
    "# Plot the confusion matrix\n",
    "plt.figure(figsize=(15, 15))\n",
    "im = plt.imshow(confusion_matrix, interpolation='nearest', cmap=plt.cm.Blues)\n",
    "\n",
    "plt.title(\"Confusion matrix \"+db_type, fontsize = 22)\n",
    "cb = plt.colorbar(im,fraction=0.046, pad=0.04)\n",
    "cb.set_label('Number of predictions', fontsize = 20)\n",
    "tick_marks = np.arange(n_classes)\n",
    "plt.xticks(tick_marks, label_axis, rotation=-90)\n",
    "plt.yticks(tick_marks, label_axis)\n",
    "plt.ylabel('True label', fontsize = 20)\n",
    "plt.xlabel('Predicted label', fontsize = 20)\n",
    "plt.savefig('confusion_matrix_'+db_type, bbox_inches='tight' )\n",
    "plt.show()"
   ]
  },
  {
   "cell_type": "code",
   "execution_count": null,
   "metadata": {
    "collapsed": true
   },
   "outputs": [],
   "source": []
  }
 ],
 "metadata": {
  "kernelspec": {
   "display_name": "Python 3",
   "language": "python",
   "name": "python3"
  },
  "language_info": {
   "codemirror_mode": {
    "name": "ipython",
    "version": 3
   },
   "file_extension": ".py",
   "mimetype": "text/x-python",
   "name": "python",
   "nbconvert_exporter": "python",
   "pygments_lexer": "ipython3",
   "version": "3.6.5"
  }
 },
 "nbformat": 4,
 "nbformat_minor": 2
}
